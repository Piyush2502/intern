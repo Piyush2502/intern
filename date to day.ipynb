{
 "cells": [
  {
   "cell_type": "code",
   "execution_count": 1,
   "metadata": {},
   "outputs": [],
   "source": [
    "import datetime\n",
    "import calendar"
   ]
  },
  {
   "cell_type": "code",
   "execution_count": 68,
   "metadata": {},
   "outputs": [],
   "source": [
    "def convert(date):\n",
    " \n",
    "    key=date.keys()\n",
    "    val=list(date.values())\n",
    "    day=[]\n",
    "    daydic={}\n",
    "    for i in key:\n",
    "        num=datetime.datetime.strptime(i, '%Y-%m-%d').weekday()\n",
    "        day.append(calendar.day_name[num])\n",
    "    j=0\n",
    "    for i in day:\n",
    "        daydic[i]=val[j]\n",
    "        j=j+1\n",
    "    return daydic"
   ]
  },
  {
   "cell_type": "code",
   "execution_count": 69,
   "metadata": {},
   "outputs": [
    {
     "name": "stdout",
     "output_type": "stream",
     "text": [
      "{'Wednesday': -2, 'Thursday': 4, 'Friday': 6, 'Saturday': 8, 'Sunday': 2, 'Monday': -6, 'Tuesday': 2}\n"
     ]
    }
   ],
   "source": [
    "li={'2020-01-01':4,'2020-01-02':4,'2020-01-03':6,'2020-01-04':8,'2020-01-05':2,'2020-01-06':-6,'2020-01-07':2,'2020-01-08':-2}\n",
    "print(convert(li))"
   ]
  },
  {
   "cell_type": "code",
   "execution_count": null,
   "metadata": {},
   "outputs": [],
   "source": []
  }
 ],
 "metadata": {
  "kernelspec": {
   "display_name": "Python 3",
   "language": "python",
   "name": "python3"
  },
  "language_info": {
   "codemirror_mode": {
    "name": "ipython",
    "version": 3
   },
   "file_extension": ".py",
   "mimetype": "text/x-python",
   "name": "python",
   "nbconvert_exporter": "python",
   "pygments_lexer": "ipython3",
   "version": "3.7.4"
  }
 },
 "nbformat": 4,
 "nbformat_minor": 2
}
